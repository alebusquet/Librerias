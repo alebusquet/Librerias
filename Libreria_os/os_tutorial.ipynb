{
 "cells": [
  {
   "attachments": {},
   "cell_type": "markdown",
   "metadata": {},
   "source": [
    "# Manipular funciones del Sistema Operativo con python\n",
    "\n",
    "## Usando las librerías `os` y `pathlib` (con Path y PurePath)\n",
    "\n",
    "-------"
   ]
  },
  {
   "cell_type": "code",
   "execution_count": 49,
   "metadata": {},
   "outputs": [],
   "source": [
    "import os\n",
    "from pathlib import Path, PurePath"
   ]
  },
  {
   "attachments": {},
   "cell_type": "markdown",
   "metadata": {},
   "source": [
    "#### --> Ver la ruta que estamos usando ahora"
   ]
  },
  {
   "cell_type": "code",
   "execution_count": 50,
   "metadata": {},
   "outputs": [
    {
     "name": "stdout",
     "output_type": "stream",
     "text": [
      "/Users/mac/Desktop/Developing/Libreria_os\n",
      "<class 'str'>\n"
     ]
    }
   ],
   "source": [
    "print(os.getcwd())      # devuelve un string\n",
    "print(type(os.getcwd()))"
   ]
  },
  {
   "cell_type": "code",
   "execution_count": 51,
   "metadata": {},
   "outputs": [
    {
     "name": "stdout",
     "output_type": "stream",
     "text": [
      "/Users/mac/Desktop/Developing/Libreria_os\n",
      "<class 'pathlib.PosixPath'>\n"
     ]
    }
   ],
   "source": [
    "print(Path.cwd())       # devuelve una clase de Path\n",
    "print(type(Path.cwd()))"
   ]
  },
  {
   "attachments": {},
   "cell_type": "markdown",
   "metadata": {},
   "source": [
    "#### --> Crear carpetas usando python"
   ]
  },
  {
   "cell_type": "code",
   "execution_count": 53,
   "metadata": {},
   "outputs": [],
   "source": [
    "os.mkdir('Prueba3')"
   ]
  },
  {
   "cell_type": "code",
   "execution_count": 52,
   "metadata": {},
   "outputs": [],
   "source": [
    "Path('Prueba4').mkdir()"
   ]
  },
  {
   "cell_type": "code",
   "execution_count": 54,
   "metadata": {},
   "outputs": [],
   "source": [
    "# Si hay posibilidad de que la carpeta ya exsita, se pone esto para evitar que rompa el código:\n",
    "Path('Prueba3').mkdir(exist_ok=True)"
   ]
  },
  {
   "attachments": {},
   "cell_type": "markdown",
   "metadata": {},
   "source": [
    "#### --> Listar archivos y carpetas del directorio actual"
   ]
  },
  {
   "cell_type": "code",
   "execution_count": 57,
   "metadata": {},
   "outputs": [
    {
     "name": "stdout",
     "output_type": "stream",
     "text": [
      "['os_tutorial.ipynb', 'Prueba2', '.DS_Store', 'Prueba4', 'Prueba3', 'base_tutorial.csv', 'Prueba1', 'base_prueba.csv']\n",
      "['archivo_prueba2']\n"
     ]
    }
   ],
   "source": [
    "print(os.listdir())\n",
    "\n",
    "# Si quisiera ver el contenido de una carpeta hija.\n",
    "print(os.listdir('Prueba2'))"
   ]
  },
  {
   "cell_type": "code",
   "execution_count": 58,
   "metadata": {},
   "outputs": [
    {
     "name": "stdout",
     "output_type": "stream",
     "text": [
      "[PosixPath('os_tutorial.ipynb'), PosixPath('Prueba2'), PosixPath('.DS_Store'), PosixPath('Prueba4'), PosixPath('Prueba3'), PosixPath('base_tutorial.csv'), PosixPath('Prueba1'), PosixPath('base_prueba.csv')]\n",
      "[PosixPath('Prueba2/archivo_prueba2')]\n"
     ]
    }
   ],
   "source": [
    "print(list(Path().iterdir()))\n",
    "\n",
    "# Si quisiera ver el contenido de una carpeta hija.\n",
    "print(list(Path('Prueba2').iterdir()))"
   ]
  },
  {
   "attachments": {},
   "cell_type": "markdown",
   "metadata": {},
   "source": [
    "#### --> Para juntar dos rutas (la actual + otra hija)"
   ]
  },
  {
   "cell_type": "code",
   "execution_count": 59,
   "metadata": {},
   "outputs": [
    {
     "data": {
      "text/plain": [
       "'/Users/mac/Desktop/Developing/Libreria_os/Prueba2'"
      ]
     },
     "execution_count": 59,
     "metadata": {},
     "output_type": "execute_result"
    }
   ],
   "source": [
    "os.path.join(os.getcwd(), 'Prueba2')"
   ]
  },
  {
   "cell_type": "code",
   "execution_count": 60,
   "metadata": {},
   "outputs": [
    {
     "name": "stdout",
     "output_type": "stream",
     "text": [
      "/Users/mac/Desktop/Developing/Libreria_os/Prueba2\n"
     ]
    }
   ],
   "source": [
    "print(PurePath.joinpath(Path.cwd(), 'Prueba2'))"
   ]
  },
  {
   "attachments": {},
   "cell_type": "markdown",
   "metadata": {},
   "source": [
    "#### --> Crear carpetas dentro de carpetas"
   ]
  },
  {
   "cell_type": "code",
   "execution_count": 61,
   "metadata": {},
   "outputs": [],
   "source": [
    "# La carpeta inicial NO es necesario que exista, la crea\n",
    "os.makedirs(os.path.join('Prueba3', 'Dataset'))"
   ]
  },
  {
   "cell_type": "code",
   "execution_count": 62,
   "metadata": {},
   "outputs": [],
   "source": [
    "# Con Path, al crear subcarpetas debemos indicarlo con el 'parents=True'\n",
    "PurePath.joinpath(Path.cwd(), 'Prueba4', 'Script').mkdir(parents=True)"
   ]
  },
  {
   "attachments": {},
   "cell_type": "markdown",
   "metadata": {},
   "source": [
    "#### --> Renombrar carpetas"
   ]
  },
  {
   "cell_type": "code",
   "execution_count": 63,
   "metadata": {},
   "outputs": [],
   "source": [
    "# No importa si la carpeta en cuestión tiene contenido dentro\n",
    "os.rename('Prueba3', 'Datasets')"
   ]
  },
  {
   "cell_type": "code",
   "execution_count": 64,
   "metadata": {},
   "outputs": [
    {
     "data": {
      "text/plain": [
       "PosixPath('Prueba3')"
      ]
     },
     "execution_count": 64,
     "metadata": {},
     "output_type": "execute_result"
    }
   ],
   "source": [
    "# No importa si la carpeta en cuestión tiene contenido dentro\n",
    "\n",
    "path_actual = Path('Datasets')\n",
    "path_objetivo = Path('Prueba3')\n",
    "\n",
    "Path.rename(path_actual, path_objetivo)"
   ]
  },
  {
   "attachments": {},
   "cell_type": "markdown",
   "metadata": {},
   "source": [
    "#### --> Renombrar archivos"
   ]
  },
  {
   "cell_type": "code",
   "execution_count": 65,
   "metadata": {},
   "outputs": [],
   "source": [
    "# Buscar los .csv en el directorio actual y cambiar el nombre\n",
    "\n",
    "for file in os.listdir():\n",
    "    if file.endswith('.csv'):\n",
    "        os.rename(file, f'2021_{file}')"
   ]
  },
  {
   "attachments": {},
   "cell_type": "markdown",
   "metadata": {},
   "source": [
    "#### --> Comprobar si una carpeta existe"
   ]
  },
  {
   "cell_type": "code",
   "execution_count": 66,
   "metadata": {},
   "outputs": [
    {
     "name": "stdout",
     "output_type": "stream",
     "text": [
      "True\n"
     ]
    }
   ],
   "source": [
    "# Devuelve True o False\n",
    "print(os.path.exists('Prueba1'))"
   ]
  },
  {
   "cell_type": "code",
   "execution_count": 67,
   "metadata": {},
   "outputs": [
    {
     "name": "stdout",
     "output_type": "stream",
     "text": [
      "True\n"
     ]
    }
   ],
   "source": [
    "carpeta = Path('Prueba3')\n",
    "print(carpeta.exists())"
   ]
  },
  {
   "attachments": {},
   "cell_type": "markdown",
   "metadata": {},
   "source": [
    "#### --> Metadata"
   ]
  },
  {
   "cell_type": "code",
   "execution_count": 68,
   "metadata": {},
   "outputs": [
    {
     "data": {
      "text/plain": [
       "'/Users/mac/Desktop/Developing/Libreria_os/Prueba2'"
      ]
     },
     "execution_count": 68,
     "metadata": {},
     "output_type": "execute_result"
    }
   ],
   "source": [
    "# En este caso pedimos la ruta absoluta de la carpeta\n",
    "os.path.abspath('Prueba2')"
   ]
  },
  {
   "cell_type": "code",
   "execution_count": 70,
   "metadata": {},
   "outputs": [
    {
     "name": "stdout",
     "output_type": "stream",
     "text": [
      "Ruta absoluta: /Users/mac/Desktop/Developing/Libreria_os/os_tutorial.ipynb\n",
      "Nombre de archivo sin extensión: os_tutorial\n",
      "Extensión del archivo: .ipynb\n",
      "Tamaño del archivo: 8175\n"
     ]
    }
   ],
   "source": [
    "# Lo mismo, con 'Path'\n",
    "script = Path('os_tutorial.ipynb')\n",
    "\n",
    "print('Ruta absoluta:', script.resolve())      # devuelve la ruta absoluta de un archivo\n",
    "print('Nombre de archivo sin extensión:', script.stem)       # devuelve el nombre del archivo, sin la extensión\n",
    "print('Extensión del archivo:', script.suffix)               # devuelve la extensión\n",
    "print('Tamaño del archivo:', script.stat().st_size)          # devuelve el tamaño del archivo"
   ]
  }
 ],
 "metadata": {
  "kernelspec": {
   "display_name": "Python 3",
   "language": "python",
   "name": "python3"
  },
  "language_info": {
   "codemirror_mode": {
    "name": "ipython",
    "version": 3
   },
   "file_extension": ".py",
   "mimetype": "text/x-python",
   "name": "python",
   "nbconvert_exporter": "python",
   "pygments_lexer": "ipython3",
   "version": "3.10.4"
  },
  "orig_nbformat": 4
 },
 "nbformat": 4,
 "nbformat_minor": 2
}
